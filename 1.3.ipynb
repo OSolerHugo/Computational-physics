{
 "cells": [
  {
   "cell_type": "markdown",
   "id": "9bfe6e73",
   "metadata": {},
   "source": [
    "It is often the case that the frictional force on an object will increase as the object moves fastr. A fortunate example of this is a parachutist; the role of the parachute is to produce a frictional force due to air drag, wich is larger than would normally be the case without the parachute. The physics of air drag will be discussed in more detail in the next chapter. Here we consider a very simple example in which the frictional force depends on the velocity. Assume that the velocity of an object obeys an equation of the form\n",
    "\n",
    "$\\frac{dv}{dt} = a - bv$\n",
    "\n",
    "where $a$ and $b$ are constants. You could think of $a$ as coming from an applied force, such as gravity, while $b$ arises from friction. Note that the frictional force is negative (we assume that $b>0$), so that it opposes the motion, and that it increases in magnitude as the velocity increases. Use the Euler method to solve for $v$ as a function of time. A convenient choice of parameters is $a=10$ and $b=1$. You should find that $v$ approaches a constat value at long times; this is called the terminal velocity."
   ]
  },
  {
   "cell_type": "markdown",
   "id": "adef9290",
   "metadata": {},
   "source": [
    "The Euler method is a first-order numerical method to solve EDO\n",
    "\n",
    "$y'(t) = f(t,y(t)), \\quad y(t_0) = y_0$\n",
    "\n",
    "$y_{n+1} = y_n + hf(t_n,y_n)$\n",
    "\n",
    "for our case,\n",
    "\n",
    "$v_{n+1} = v_n + \\Delta t(a-bv_n)$"
   ]
  },
  {
   "cell_type": "code",
   "execution_count": 3,
   "id": "829dc055",
   "metadata": {},
   "outputs": [],
   "source": [
    "import numpy as np #mathical package\n",
    "import matplotlib.pyplot as plt #package to create figures"
   ]
  },
  {
   "cell_type": "code",
   "execution_count": 8,
   "id": "69c8eb91",
   "metadata": {},
   "outputs": [],
   "source": [
    "#this function calculate the Euler method \n",
    "def v_p(t,v0,a,b):\n",
    "    i=0\n",
    "    V=np.zeros(len(t))\n",
    "    V[0]=v0\n",
    "    while i<len(t)-1:\n",
    "        V[i+1]= V[i] + (a-b*V[i])*(t[i+1]-t[i])\n",
    "        i+=1\n",
    "    return(V)"
   ]
  },
  {
   "cell_type": "code",
   "execution_count": 19,
   "id": "327377c8",
   "metadata": {},
   "outputs": [
    {
     "data": {
      "text/plain": [
       "<function matplotlib.pyplot.show(close=None, block=None)>"
      ]
     },
     "execution_count": 19,
     "metadata": {},
     "output_type": "execute_result"
    },
    {
     "data": {
      "image/png": "[encoded data removed]",
      "text/plain": [
       "<Figure size 432x288 with 1 Axes>"
      ]
     },
     "metadata": {
      "needs_background": "light"
     },
     "output_type": "display_data"
    }
   ],
   "source": [
    "t = np.arange(0,10,0.5) #Creates the time interval\n",
    "plt.plot(t,v_p(t,0,10,1))\n",
    "plt.show"
   ]
  },
  {
   "cell_type": "markdown",
   "id": "0eeb5e6a",
   "metadata": {},
   "source": [
    "The figure show that the final velocity, for the parameters $a=10$ and $b=1$, is $v_{terminal}= 10 m/s$. If you change the initial velocity the terminal velocity still the same. This happens because the terminal velocity depens only of the parameters, $a$ and $b$."
   ]
  },
  {
   "cell_type": "code",
   "execution_count": null,
   "id": "54436d9b",
   "metadata": {},
   "outputs": [],
   "source": []
  }
 ],
 "metadata": {
  "kernelspec": {
   "display_name": "Python 3",
   "language": "python",
   "name": "python3"
  },
  "language_info": {
   "codemirror_mode": {
    "name": "ipython",
    "version": 3
   },
   "file_extension": ".py",
   "mimetype": "text/x-python",
   "name": "python",
   "nbconvert_exporter": "python",
   "pygments_lexer": "ipython3",
   "version": "3.9.5"
  }
 },
 "nbformat": 4,
 "nbformat_minor": 5
}
