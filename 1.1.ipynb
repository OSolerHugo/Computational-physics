{
 "cells": [
  {
   "cell_type": "markdown",
   "id": "aa5c442b",
   "metadata": {},
   "source": [
    "The velocity of a freely falling object near Eath's surface is described by the equation:\n",
    "\n",
    "$\\frac{dv}{dt} = -g$\n",
    "\n",
    "where $v$ is the velocity and $g=9.8$m/s$^2$ is the acceleration due to gravity. Write a program that employs the Euler method to compute the solution."
   ]
  },
  {
   "cell_type": "markdown",
   "id": "06928824",
   "metadata": {},
   "source": [
    "The Euler method is a first-order numerical method to solve EDO\n",
    "\n",
    "$y'(t) = f(t,y(t)), \\quad y(t_0) = y_0$\n",
    "\n",
    "$y_{n+1} = y_n + hf(t_n,y_n)$"
   ]
  },
  {
   "cell_type": "code",
   "execution_count": 1,
   "id": "8f8cad53",
   "metadata": {},
   "outputs": [],
   "source": [
    "import numpy as np #mathical package\n",
    "import matplotlib.pyplot as plt #package to create figures"
   ]
  },
  {
   "cell_type": "markdown",
   "id": "1b0ad081",
   "metadata": {},
   "source": [
    "In this way, we can write:\n",
    "\n",
    "$v' = f(t,y(t)) = -g$\n",
    "\n",
    "so,\n",
    "\n",
    "$v_{n+1} = v_n - hg$"
   ]
  },
  {
   "cell_type": "code",
   "execution_count": 9,
   "id": "8f441e76",
   "metadata": {},
   "outputs": [],
   "source": [
    "#this function calculate the v\n",
    "def v_p(t,v0):\n",
    "    g=9.8\n",
    "    i=0\n",
    "    V=np.zeros(len(t))\n",
    "    V[0]=v0\n",
    "    while i<len(t)-1:\n",
    "        V[i+1]= V[i] - 9.8*(t[i+1]-t[i])\n",
    "        i+=1\n",
    "    return(V)"
   ]
  },
  {
   "cell_type": "code",
   "execution_count": 14,
   "id": "1b5264d4",
   "metadata": {},
   "outputs": [],
   "source": [
    "t = np.arange(0,10,0.5)"
   ]
  },
  {
   "cell_type": "code",
   "execution_count": 15,
   "id": "09511a65",
   "metadata": {},
   "outputs": [
    {
     "data": {
      "text/plain": [
       "array([  0. ,   0. ,  -4.9,  -9.8, -14.7, -19.6, -24.5, -29.4, -34.3,\n",
       "       -39.2, -44.1, -49. , -53.9, -58.8, -63.7, -68.6, -73.5, -78.4,\n",
       "       -83.3, -88.2])"
      ]
     },
     "execution_count": 15,
     "metadata": {},
     "output_type": "execute_result"
    }
   ],
   "source": [
    "v_p(t,0)"
   ]
  },
  {
   "cell_type": "code",
   "execution_count": 13,
   "id": "44bb11d9",
   "metadata": {},
   "outputs": [
    {
     "data": {
      "text/plain": [
       "<function matplotlib.pyplot.show(close=None, block=None)>"
      ]
     },
     "execution_count": 13,
     "metadata": {},
     "output_type": "execute_result"
    },
    {
     "data": {
      "image/png": "[encoded data removed]",
      "text/plain": [
       "<Figure size 432x288 with 1 Axes>"
      ]
     },
     "metadata": {
      "needs_background": "light"
     },
     "output_type": "display_data"
    }
   ],
   "source": [
    "plt.plot(t,v_p(t,0))\n",
    "plt.show"
   ]
  },
  {
   "cell_type": "code",
   "execution_count": null,
   "id": "b968c302",
   "metadata": {},
   "outputs": [],
   "source": []
  }
 ],
 "metadata": {
  "kernelspec": {
   "display_name": "Python 3",
   "language": "python",
   "name": "python3"
  },
  "language_info": {
   "codemirror_mode": {
    "name": "ipython",
    "version": 3
   },
   "file_extension": ".py",
   "mimetype": "text/x-python",
   "name": "python",
   "nbconvert_exporter": "python",
   "pygments_lexer": "ipython3",
   "version": "3.9.5"
  }
 },
 "nbformat": 4,
 "nbformat_minor": 5
}
