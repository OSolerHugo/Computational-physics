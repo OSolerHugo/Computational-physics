{
 "cells": [
  {
   "cell_type": "markdown",
   "id": "ce18beb1",
   "metadata": {},
   "source": [
    "Consider again a decay problem with two types of nuclei $A$ and $B$, but now suppose that nuclei of type $A$ decay into ones of type $B$, while nucleiof type $B$ decay into ones of type $A$. Strictly speaking, this is not a \"decay\" process, since it is possible for the type $B$ nuclei to turn back into type $A$ nuclei. $A$ better analogy would be a reasonance in which a system can tunnel or move back and forth between two states $A$ and $B$ which have equal energies. The corresponding rate equations are\n",
    "\n",
    "$\\frac{dN_A}{dt} = \\frac{N_{B}}{\\tau} - \\frac{N_{A}}{\\tau}$\n",
    "\n",
    "$\\frac{dN_{B}}{dt} = \\frac{N_{A}}{\\tau} - \\frac{N_B}{\\tau}$\n",
    "\n",
    "\n",
    "where for simplicity we have assumed that the two types of decay are characterized by the same time constant, $\\tau$ . Solve this system of equations for the numbers of nuclei, $N_A$ and $N_B$,as functions of time. Consider different initial conditions, such as $N_A = 100$, $N_B=0$, etc., and take $\\tau=1$s. Show that your numerical results are consistent with the idea that the system reaches a steady state in which $N_A$ and $N_B$ are constant. In such a steady state, the time derivatives $\\frac{dN_A}{dt}$ and $\\frac{dN_B}{dt}$ should vanish.\n"
   ]
  },
  {
   "cell_type": "markdown",
   "id": "ccd7a584",
   "metadata": {},
   "source": [
    "The Euler method is a first-order numerical method to solve EDO\n",
    "\n",
    "$y'(t) = f(t,y(t)), \\quad y(t_0) = y_0$\n",
    "\n",
    "$y_{n+1} = y_n + hf(t_n,y_n)$\n",
    "\n",
    "for our case, we will have two equations:\n",
    "\n",
    "$N_{A}^{n+1}  = N_{A}^{n} + \\frac{1}{\\tau}\\left(N_{B}^{n} -  N_{A}^{n}  \\right)\\Delta t$\n",
    "\n",
    "$N_{B}^{n+1}  = N_{B}^{n} + \\frac{1}{\\tau}\\left(N_{A}^{n} -  N_{B}^{n}  \\right)\\Delta  t$"
   ]
  },
  {
   "cell_type": "code",
   "execution_count": 2,
   "id": "c9f50493",
   "metadata": {},
   "outputs": [],
   "source": [
    "import numpy as np #mathical package\n",
    "import matplotlib.pyplot as plt #package to create figures"
   ]
  },
  {
   "cell_type": "code",
   "execution_count": 8,
   "id": "89461375",
   "metadata": {},
   "outputs": [],
   "source": [
    "#Apply the Euler method to this problem\n",
    "\n",
    "def N_E(t,Na0,Nb0,tau):\n",
    "    i=0\n",
    "    Na=np.zeros(len(t))\n",
    "    Nb=np.zeros(len(t))\n",
    "    Na[0]=Na0\n",
    "    Nb[0]=Nb0\n",
    "    while i<len(t)-1:\n",
    "        dt= t[i+1]-t[i]\n",
    "        Na[i+1]= Na[i] + dt*(Nb[i] - Na[i])/tau\n",
    "        Nb[i+1]= Nb[i] + dt*(Na[i] - Nb[i])/tau\n",
    "        i+=1\n",
    "    return(Na,Nb)"
   ]
  },
  {
   "cell_type": "code",
   "execution_count": 12,
   "id": "5d7928e1",
   "metadata": {},
   "outputs": [
    {
     "data": {
      "text/plain": [
       "<function matplotlib.pyplot.show(close=None, block=None)>"
      ]
     },
     "execution_count": 12,
     "metadata": {},
     "output_type": "execute_result"
    },
    {
     "data": {
      "image/png": "[encoded data removed]",
      "text/plain": [
       "<Figure size 432x288 with 1 Axes>"
      ]
     },
     "metadata": {
      "needs_background": "light"
     },
     "output_type": "display_data"
    }
   ],
   "source": [
    "Na0 = 100 #Number of A nuclei\n",
    "Nb0 = 0   #Number of B nuclei\n",
    "tau   = 1   #Decay time \n",
    "\n",
    "\n",
    "t = np.arange(0,5,0.2) #Creates the time interval\n",
    "Na,Nb = N_E(t,Na0,Nb0,tau)\n",
    "plt.plot(t,Na,t,Nb)\n",
    "plt.show"
   ]
  },
  {
   "cell_type": "markdown",
   "id": "3e57d63c",
   "metadata": {},
   "source": [
    "From the figure is easy to see that the equilibrium is reach wen $N_A$ and $N_B$ are equal to 50. The two values are constant in time, so $dN_A/dt$ and $dN_B/dt$ are zero. Other thing is the sum of the population of the twoo nuclei is constant in time, as we can see:"
   ]
  },
  {
   "cell_type": "code",
   "execution_count": 13,
   "id": "572d0d82",
   "metadata": {},
   "outputs": [
    {
     "data": {
      "text/plain": [
       "array([100., 100., 100., 100., 100., 100., 100., 100., 100., 100., 100.,\n",
       "       100., 100., 100., 100., 100., 100., 100., 100., 100., 100., 100.,\n",
       "       100., 100., 100.])"
      ]
     },
     "execution_count": 13,
     "metadata": {},
     "output_type": "execute_result"
    }
   ],
   "source": [
    "Na+Nb"
   ]
  }
 ],
 "metadata": {
  "kernelspec": {
   "display_name": "Python 3",
   "language": "python",
   "name": "python3"
  },
  "language_info": {
   "codemirror_mode": {
    "name": "ipython",
    "version": 3
   },
   "file_extension": ".py",
   "mimetype": "text/x-python",
   "name": "python",
   "nbconvert_exporter": "python",
   "pygments_lexer": "ipython3",
   "version": "3.9.5"
  }
 },
 "nbformat": 4,
 "nbformat_minor": 5
}
