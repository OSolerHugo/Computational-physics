{
 "cells": [
  {
   "cell_type": "markdown",
   "id": "2cd02a7a",
   "metadata": {},
   "source": [
    "The position of an object moving horizontally with a constat velocity, $v$, is described by the equation\n",
    "\n",
    "$\\frac{dx}{dt}=v$\n",
    "\n",
    "Assumning that the velocity is a constat, say $v=40$ m/s, use the Euler method to solve for $x$ as a function of time. Compare your results with the exact solution."
   ]
  },
  {
   "cell_type": "markdown",
   "id": "0fdf01b7",
   "metadata": {},
   "source": [
    "The Euler method is a first-order numerical method to solve EDO\n",
    "\n",
    "$y'(t) = f(t,y(t)), \\quad y(t_0) = y_0$\n",
    "\n",
    "$y_{n+1} = y_n + hf(t_n,y_n)$"
   ]
  },
  {
   "cell_type": "code",
   "execution_count": 1,
   "id": "252c056e",
   "metadata": {},
   "outputs": [],
   "source": [
    "import numpy as np #mathical package\n",
    "import matplotlib.pyplot as plt #package to create figures"
   ]
  },
  {
   "cell_type": "code",
   "execution_count": 8,
   "id": "2aaf5af7",
   "metadata": {},
   "outputs": [],
   "source": [
    "#this function calculate the x\n",
    "def x_p(t,x0):\n",
    "    v=40.0\n",
    "    i=0\n",
    "    X=np.zeros(len(t))\n",
    "    X[0]=x0\n",
    "    while i<len(t)-1:\n",
    "        X[i+1]= X[i] - v*(t[i+1]-t[i])\n",
    "        i+=1\n",
    "    return(X)"
   ]
  },
  {
   "cell_type": "code",
   "execution_count": 9,
   "id": "cba01cb6",
   "metadata": {},
   "outputs": [
    {
     "data": {
      "text/plain": [
       "<function matplotlib.pyplot.show(close=None, block=None)>"
      ]
     },
     "execution_count": 9,
     "metadata": {},
     "output_type": "execute_result"
    },
    {
     "data": {
      "image/png": "[encoded data removed]",
      "text/plain": [
       "<Figure size 432x288 with 1 Axes>"
      ]
     },
     "metadata": {
      "needs_background": "light"
     },
     "output_type": "display_data"
    }
   ],
   "source": [
    "t = np.arange(0,10,0.5) #Creates the time interval\n",
    "plt.plot(t,x_p(t,0))\n",
    "plt.show"
   ]
  },
  {
   "cell_type": "code",
   "execution_count": null,
   "id": "c28ce4e2",
   "metadata": {},
   "outputs": [],
   "source": []
  }
 ],
 "metadata": {
  "kernelspec": {
   "display_name": "Python 3",
   "language": "python",
   "name": "python3"
  },
  "language_info": {
   "codemirror_mode": {
    "name": "ipython",
    "version": 3
   },
   "file_extension": ".py",
   "mimetype": "text/x-python",
   "name": "python",
   "nbconvert_exporter": "python",
   "pygments_lexer": "ipython3",
   "version": "3.9.5"
  }
 },
 "nbformat": 4,
 "nbformat_minor": 5
}
